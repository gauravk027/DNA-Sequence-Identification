{
 "cells": [
  {
   "cell_type": "code",
   "execution_count": 1,
   "id": "cfab17ce",
   "metadata": {},
   "outputs": [],
   "source": [
    "#General \n",
    "import numpy as np\n",
    "import pandas as pd \n",
    "import joblib\n",
    "import sklearn\n",
    "import xgboost as xgb\n",
    "from sklearn.metrics import accuracy_score,recall_score,precision_score,f1_score,roc_auc_score,precision_recall_curve, average_precision_score, classification_report, confusion_matrix, make_scorer"
   ]
  },
  {
   "cell_type": "code",
   "execution_count": 2,
   "id": "46795d18",
   "metadata": {},
   "outputs": [
    {
     "name": "stdout",
     "output_type": "stream",
     "text": [
      "1.3.0\n",
      "1.7.3\n"
     ]
    }
   ],
   "source": [
    "print(sklearn.__version__)\n",
    "print(xgb.__version__)"
   ]
  },
  {
   "cell_type": "code",
   "execution_count": 3,
   "id": "decba8ba",
   "metadata": {
    "scrolled": true
   },
   "outputs": [],
   "source": [
    "#Data Reading\n",
    "classes_mixed_data = pd.read_csv('F:\\Sequence Prediction/Week 1 mixed test.csv') #file is having 49 feature\n",
    "Y_test = classes_mixed_data['label'] \n",
    "classes_mixed_data = classes_mixed_data.drop('label', axis='columns')"
   ]
  },
  {
   "cell_type": "code",
   "execution_count": 4,
   "id": "07622104",
   "metadata": {},
   "outputs": [],
   "source": [
    "# file path for saved model\n",
    "mixed_model_path = 'F:\\\\Sequence Prediction\\\\Final Models\\\\mixed_model_xgbRF.joblib'\n",
    "\n",
    "# load the saved model from the joblib file\n",
    "mixed_model_loaded = joblib.load(mixed_model_path)"
   ]
  },
  {
   "cell_type": "code",
   "execution_count": 5,
   "id": "df01a538",
   "metadata": {},
   "outputs": [],
   "source": [
    "# load the mapped file from path\n",
    "\n",
    "#Location of mapping \n",
    "mixed_model_label_mapping_path = 'F:\\\\Sequence Prediction\\\\Final Models\\\\mixed_model_label_mapping.joblib'\n",
    "\n",
    "# load the saved model from the joblib file\n",
    "label_mapping = joblib.load(mixed_model_label_mapping_path)"
   ]
  },
  {
   "cell_type": "code",
   "execution_count": 6,
   "id": "58642f8c",
   "metadata": {},
   "outputs": [],
   "source": [
    "# prediction\n",
    "Y_encoded_pred = mixed_model_loaded.predict(classes_mixed_data)"
   ]
  },
  {
   "cell_type": "code",
   "execution_count": 7,
   "id": "2dc6aa3e",
   "metadata": {},
   "outputs": [],
   "source": [
    "# function to decode the encoded values\n",
    "\n",
    "def decode_labels(encoded_values, label_mapping):\n",
    "\n",
    "    decoded_values = [label_mapping[encoded] for encoded in encoded_values]\n",
    "\n",
    "    return decoded_values\n",
    "\n",
    "\n",
    "# Using the decoding function to get the decoded predictions\n",
    "\n",
    "Y_pred_mixed = decode_labels(Y_encoded_pred, label_mapping)\n"
   ]
  },
  {
   "cell_type": "code",
   "execution_count": 8,
   "id": "3bfefec7",
   "metadata": {},
   "outputs": [
    {
     "name": "stdout",
     "output_type": "stream",
     "text": [
      "              precision    recall  f1-score   support\n",
      "\n",
      "           3       1.00      1.00      1.00      9304\n",
      "           5       1.00      1.00      1.00     13534\n",
      "           6       1.00      1.00      1.00     10908\n",
      "           9       1.00      1.00      1.00     12456\n",
      "          10       1.00      1.00      1.00      9682\n",
      "          12       1.00      1.00      1.00     13119\n",
      "\n",
      "    accuracy                           1.00     69003\n",
      "   macro avg       1.00      1.00      1.00     69003\n",
      "weighted avg       1.00      1.00      1.00     69003\n",
      "\n"
     ]
    }
   ],
   "source": [
    "# Evaluate the model's performance\n",
    "print(classification_report(Y_test, Y_pred_mixed))"
   ]
  },
  {
   "cell_type": "code",
   "execution_count": 11,
   "id": "b8408dc2",
   "metadata": {},
   "outputs": [
    {
     "data": {
      "image/png": "[encoded data removed]",
      "text/plain": [
       "<Figure size 400x400 with 1 Axes>"
      ]
     },
     "metadata": {},
     "output_type": "display_data"
    }
   ],
   "source": [
    "import matplotlib.pyplot as plt\n",
    "import seaborn as sns\n",
    "#compute the confusion metrix\n",
    "cm = confusion_matrix(Y_test,Y_pred_mixed)\n",
    "\n",
    "#display using heatmap\n",
    "plt.figure(figsize=(4,4))\n",
    "sns.heatmap(cm, annot=True, fmt=\"d\", cmap=\"Blues\", cbar=False)\n",
    "plt.xlabel(\"Predicted Labels\")\n",
    "plt.ylabel(\"True Labels\")\n",
    "plt.title(\"Confusion Matrix\")\n",
    "plt.show()"
   ]
  },
  {
   "cell_type": "code",
   "execution_count": null,
   "id": "4db4d520",
   "metadata": {},
   "outputs": [],
   "source": []
  }
 ],
 "metadata": {
  "kernelspec": {
   "display_name": "Python 3 (ipykernel)",
   "language": "python",
   "name": "python3"
  },
  "language_info": {
   "codemirror_mode": {
    "name": "ipython",
    "version": 3
   },
   "file_extension": ".py",
   "mimetype": "text/x-python",
   "name": "python",
   "nbconvert_exporter": "python",
   "pygments_lexer": "ipython3",
   "version": "3.10.9"
  }
 },
 "nbformat": 4,
 "nbformat_minor": 5
}
