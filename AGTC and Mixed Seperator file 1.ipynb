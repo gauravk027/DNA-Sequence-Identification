{
 "cells": [
  {
   "cell_type": "code",
   "execution_count": 1,
   "id": "8a898770",
   "metadata": {},
   "outputs": [],
   "source": [
    "import pandas as pd\n",
    "import os\n",
    "import matplotlib.pyplot as plt\n",
    "import seaborn as sns"
   ]
  },
  {
   "cell_type": "markdown",
   "id": "a92d84f9",
   "metadata": {},
   "source": [
    "# Mixed Base Dataset"
   ]
  },
  {
   "cell_type": "code",
   "execution_count": 26,
   "id": "cbe5b0a0",
   "metadata": {},
   "outputs": [],
   "source": [
    "# Function to merge CSV files in a given directory\n",
    "\n",
    "def merge_csv_files(input_folder, output_folder):\n",
    "\n",
    "    all_data = []\n",
    "\n",
    "    # List all files in the input folder\n",
    "    file_list = [f for f in os.listdir(input_folder) if f.endswith('.csv')]\n",
    "\n",
    "    for file in file_list:\n",
    "        file_path = os.path.join(input_folder, file)\n",
    "        \n",
    "        # Read each CSV file into a DataFrame\n",
    "        data = pd.read_csv(file_path)\n",
    "\n",
    "        # Append the DataFrame to the list\n",
    "        all_data.append(data)\n",
    "      \n",
    "    # Concatenate all Dataframes into a single DataFrame\n",
    "    merged_data = pd.concat(all_data, ignore_index=True)\n",
    "\n",
    "    # Write the merged data to a new CSV file in the specified path \n",
    "    output_file = os.path.join(output_folder, 'mixed.csv')\n",
    "    merged_data.to_csv(output_file, index=False)\n",
    "\n",
    "\n",
    "input_folder = 'F:\\Mixed Merge Folder Input'  # Replace 'input_folder' with the actual path\n",
    "output_folder = 'F:\\Mixed Merge Folder Output'      # Replace 'output_folder' with the desired actual path\n",
    "\n",
    "\n",
    "merge_csv_files(input_folder, output_folder)"
   ]
  },
  {
   "cell_type": "code",
   "execution_count": 1,
   "id": "87cb1188",
   "metadata": {
    "scrolled": true
   },
   "outputs": [
    {
     "ename": "NameError",
     "evalue": "name 'pd' is not defined",
     "output_type": "error",
     "traceback": [
      "\u001b[1;31m---------------------------------------------------------------------------\u001b[0m",
      "\u001b[1;31mNameError\u001b[0m                                 Traceback (most recent call last)",
      "Cell \u001b[1;32mIn[1], line 1\u001b[0m\n\u001b[1;32m----> 1\u001b[0m merge_data \u001b[38;5;241m=\u001b[39m \u001b[43mpd\u001b[49m\u001b[38;5;241m.\u001b[39mread_csv(\u001b[38;5;124m'\u001b[39m\u001b[38;5;124mF:\u001b[39m\u001b[38;5;124m\\\u001b[39m\u001b[38;5;124mTest1234/mixed.csv\u001b[39m\u001b[38;5;124m'\u001b[39m)\n\u001b[0;32m      3\u001b[0m \u001b[38;5;28mprint\u001b[39m(\u001b[38;5;124m'\u001b[39m\u001b[38;5;130;01m\\n\u001b[39;00m\u001b[38;5;124m'\u001b[39m\u001b[38;5;124mf\u001b[39m\u001b[38;5;124m'\u001b[39m\u001b[38;5;124mmixed_merged_file shape: \u001b[39m\u001b[38;5;132;01m{\u001b[39;00mmerge_data\u001b[38;5;241m.\u001b[39mshape\u001b[38;5;132;01m}\u001b[39;00m\u001b[38;5;124m'\u001b[39m)\n",
      "\u001b[1;31mNameError\u001b[0m: name 'pd' is not defined"
     ]
    }
   ],
   "source": [
    "merge_data = pd.read_csv('F:\\Test1234/mixed.csv')\n",
    "\n",
    "print('\\n'f'mixed_merged_file shape: {merge_data.shape}')"
   ]
  },
  {
   "cell_type": "markdown",
   "id": "3d8f7a45",
   "metadata": {},
   "source": [
    "# Full Base Dataset"
   ]
  },
  {
   "cell_type": "code",
   "execution_count": null,
   "id": "9d0414ba",
   "metadata": {},
   "outputs": [],
   "source": [
    "# Function to merge CSV files in a given directory\n",
    "\n",
    "def merge_csv_files(input_folder, output_folder):\n",
    "\n",
    "    all_data = []\n",
    "\n",
    "    # List all files in the input folder\n",
    "    file_list = [f for f in os.listdir(input_folder) if f.endswith('.csv')]\n",
    "\n",
    "    for file in file_list:\n",
    "        file_path = os.path.join(input_folder, file)\n",
    "        \n",
    "        # Read each CSV file into a DataFrame\n",
    "        data = pd.read_csv(file_path)\n",
    "\n",
    "        # Append the DataFrame to the list\n",
    "        all_data.append(data)\n",
    "      \n",
    "    # Concatenate all Dataframes into a single DataFrame\n",
    "    merged_data = pd.concat(all_data, ignore_index=True)\n",
    "\n",
    "    # Write the merged data to a new CSV file in the specified path \n",
    "    output_file = os.path.join(output_folder, 'full_merged_file.csv')\n",
    "    merged_data.to_csv(output_file, index=False)\n",
    "\n",
    "\n",
    "input_folder = 'F:\\Full Merge Folder Input'  # Replace 'input_folder' with the actual path\n",
    "output_folder = 'F:\\Full Merge Folder Output'     # Replace 'output_folder.csv' with the desired actual path\n",
    "\n",
    "\n",
    "merge_csv_files(input_folder, output_folder)"
   ]
  },
  {
   "cell_type": "code",
   "execution_count": null,
   "id": "1fc23b35",
   "metadata": {},
   "outputs": [],
   "source": [
    "merge_data = pd.read_csv('F:\\Full Merge Folder Output/full_merged_file.csv')\n",
    "\n",
    "print('\\n'f'full_merged_file shape: {merge_data.shape}')"
   ]
  },
  {
   "cell_type": "markdown",
   "id": "4c3f9947",
   "metadata": {},
   "source": [
    "# Full and Unique Mixed Base"
   ]
  },
  {
   "cell_type": "code",
   "execution_count": 28,
   "id": "d26d03af",
   "metadata": {},
   "outputs": [],
   "source": [
    "# Function to merge CSV files in a given directory\n",
    "\n",
    "def merge_csv_files(input_folder, output_folder):\n",
    "\n",
    "    all_data = []\n",
    "\n",
    "    # List all files in the input folder\n",
    "    file_list = [f for f in os.listdir(input_folder) if f.endswith('.csv')]\n",
    "\n",
    "    for file in file_list:\n",
    "        file_path = os.path.join(input_folder, file)\n",
    "        \n",
    "        # Read each CSV file into a DataFrame\n",
    "        data = pd.read_csv(file_path)\n",
    "\n",
    "        # Append the DataFrame to the list\n",
    "        all_data.append(data)\n",
    "      \n",
    "    # Concatenate all Dataframes into a single DataFrame\n",
    "    merged_data = pd.concat(all_data, ignore_index=True)\n",
    "\n",
    "    # Write the merged data to a new CSV file in the specified path \n",
    "    output_file = os.path.join(output_folder, 'fullandMixed_merged_file.csv')\n",
    "    merged_data.to_csv(output_file, index=False)\n",
    "\n",
    "\n",
    "input_folder = 'F:\\Full and Unique Mixed Input'  # Replace 'input_folder' with the actual path\n",
    "output_folder = 'F:\\Full and Unique Mixed Output'      # Replace 'output_folder' with the desired actual path\n",
    "\n",
    "\n",
    "merge_csv_files(input_folder, output_folder)"
   ]
  },
  {
   "cell_type": "code",
   "execution_count": 2,
   "id": "bf2ae929",
   "metadata": {},
   "outputs": [
    {
     "ename": "NameError",
     "evalue": "name 'pd' is not defined",
     "output_type": "error",
     "traceback": [
      "\u001b[1;31m---------------------------------------------------------------------------\u001b[0m",
      "\u001b[1;31mNameError\u001b[0m                                 Traceback (most recent call last)",
      "Cell \u001b[1;32mIn[2], line 1\u001b[0m\n\u001b[1;32m----> 1\u001b[0m merge_data \u001b[38;5;241m=\u001b[39m \u001b[43mpd\u001b[49m\u001b[38;5;241m.\u001b[39mread_csv(\u001b[38;5;124m'\u001b[39m\u001b[38;5;124mF:\u001b[39m\u001b[38;5;124m\\\u001b[39m\u001b[38;5;124mFull and Unique Mixed Output/fullandMixed_merged_file.csv\u001b[39m\u001b[38;5;124m'\u001b[39m)\n\u001b[0;32m      3\u001b[0m \u001b[38;5;28mprint\u001b[39m(\u001b[38;5;124m'\u001b[39m\u001b[38;5;130;01m\\n\u001b[39;00m\u001b[38;5;124m'\u001b[39m\u001b[38;5;124mf\u001b[39m\u001b[38;5;124m'\u001b[39m\u001b[38;5;124mfull and Mixed merged_file shape: \u001b[39m\u001b[38;5;132;01m{\u001b[39;00mmerge_data\u001b[38;5;241m.\u001b[39mshape\u001b[38;5;132;01m}\u001b[39;00m\u001b[38;5;124m'\u001b[39m)\n",
      "\u001b[1;31mNameError\u001b[0m: name 'pd' is not defined"
     ]
    }
   ],
   "source": [
    "merge_data = pd.read_csv('F:\\Full and Unique Mixed Output/fullandMixed_merged_file.csv')\n",
    "\n",
    "print('\\n'f'full and Mixed merged_file shape: {merge_data.shape}')"
   ]
  },
  {
   "cell_type": "code",
   "execution_count": 30,
   "id": "d176a0d6",
   "metadata": {},
   "outputs": [
    {
     "data": {
      "text/plain": [
       "Text(0, 0.5, 'Count')"
      ]
     },
     "execution_count": 30,
     "metadata": {},
     "output_type": "execute_result"
    },
    {
     "data": {
      "image/png": "[encoded data removed]",
      "text/plain": [
       "<Figure size 1500x500 with 1 Axes>"
      ]
     },
     "metadata": {},
     "output_type": "display_data"
    }
   ],
   "source": [
    "#Data Visualization\n",
    "count = merge_data['Label'].value_counts()\n",
    "plt.figure(figsize=(15,5))\n",
    "sns.barplot(x=count.index.values, y=count.values, data=merge_data)\n",
    "\n",
    "plt.xlabel(\"Label\")\n",
    "plt.ylabel(\"Count\")"
   ]
  },
  {
   "cell_type": "code",
   "execution_count": 3,
   "id": "7c573a89",
   "metadata": {},
   "outputs": [
    {
     "ename": "NameError",
     "evalue": "name 'merge_data' is not defined",
     "output_type": "error",
     "traceback": [
      "\u001b[1;31m---------------------------------------------------------------------------\u001b[0m",
      "\u001b[1;31mNameError\u001b[0m                                 Traceback (most recent call last)",
      "Cell \u001b[1;32mIn[3], line 1\u001b[0m\n\u001b[1;32m----> 1\u001b[0m \u001b[43mmerge_data\u001b[49m[\u001b[38;5;124m'\u001b[39m\u001b[38;5;124mLabel\u001b[39m\u001b[38;5;124m'\u001b[39m]\u001b[38;5;241m.\u001b[39mvalue_counts()\n",
      "\u001b[1;31mNameError\u001b[0m: name 'merge_data' is not defined"
     ]
    }
   ],
   "source": [
    "merge_data['Label'].value_counts()"
   ]
  },
  {
   "cell_type": "code",
   "execution_count": 5,
   "id": "31751bdf",
   "metadata": {},
   "outputs": [],
   "source": [
    "# Function to separate classes and save files\n",
    "\n",
    "def separate_classes_and_save(input_folder, output_folder):\n",
    "\n",
    "    # Create the output folder if it doesn't exist\n",
    "    if not os.path.exists(output_folder):\n",
    "        os.makedirs(output_folder)\n",
    "\n",
    "    #  files in the input folder\n",
    "    file_list = [f for f in os.listdir(input_folder) if f.endswith('.csv')]\n",
    "\n",
    "    # class labels to combine in each file\n",
    "    classes_AGTC = [1, 2, 4, 8] # commented only for adding mixed bases\n",
    "    classes_mixed = [3, 5, 6, 9, 10, 12]\n",
    "\n",
    "    for file in file_list:\n",
    "        file_path = os.path.join(input_folder, file)\n",
    "\n",
    "        # Read the original dataset into a pandas DataFrame\n",
    "        data = pd.read_csv(file_path)\n",
    "\n",
    "        # separate DataFrames for the specified classes\n",
    "        classes_AGTC_data = data[data['Label'].isin(classes_AGTC)] # commented only for adding mixed bases\n",
    "        classes_mixed_data = data[data['Label'].isin(classes_mixed)]\n",
    "\n",
    "        # Create the output file paths\n",
    "        classes_AGTC_output_file = os.path.join(output_folder, f'{file}_classes_AGTC.csv')\n",
    "        classes_mixed_output_file = os.path.join(output_folder, f'{file}_classes_mixed.csv') # commented only for adding mixed bases\n",
    "        classes_AGTC_output_file = os.path.join(output_folder, 'classes_AGTC.csv')\n",
    "        classes_mixed_output_file = os.path.join(output_folder, 'classes_mixed.csv')\n",
    "\n",
    "        # Save the separated DataFrames to new CSV files in the output folder\n",
    "        classes_AGTC_data.to_csv(classes_AGTC_output_file, index=False) # commented only for adding mixed bases\n",
    "        classes_mixed_data.to_csv(classes_mixed_output_file, index=False)\n",
    "\n",
    "\n",
    "input_folder = 'F:\\For seperating class Input'   # the actual input folder path\n",
    "\n",
    "output_folder = 'F:\\For seperating class Output' # the desired output folder path\n",
    "\n",
    "\n",
    "separate_classes_and_save(input_folder, output_folder)"
   ]
  },
  {
   "cell_type": "code",
   "execution_count": 4,
   "id": "174d6529",
   "metadata": {},
   "outputs": [
    {
     "ename": "NameError",
     "evalue": "name 'pd' is not defined",
     "output_type": "error",
     "traceback": [
      "\u001b[1;31m---------------------------------------------------------------------------\u001b[0m",
      "\u001b[1;31mNameError\u001b[0m                                 Traceback (most recent call last)",
      "Cell \u001b[1;32mIn[4], line 1\u001b[0m\n\u001b[1;32m----> 1\u001b[0m classes_AGTC_data \u001b[38;5;241m=\u001b[39m \u001b[43mpd\u001b[49m\u001b[38;5;241m.\u001b[39mread_csv(\u001b[38;5;124m'\u001b[39m\u001b[38;5;124mF:\u001b[39m\u001b[38;5;124m\\\u001b[39m\u001b[38;5;124mFor seperating class Output/classes_AGTC.csv\u001b[39m\u001b[38;5;124m'\u001b[39m)\n\u001b[0;32m      2\u001b[0m classes_mixed_data \u001b[38;5;241m=\u001b[39m pd\u001b[38;5;241m.\u001b[39mread_csv(\u001b[38;5;124m'\u001b[39m\u001b[38;5;124mF:\u001b[39m\u001b[38;5;124m\\\u001b[39m\u001b[38;5;124mFor seperating class Output/classes_mixed.csv\u001b[39m\u001b[38;5;124m'\u001b[39m)\n\u001b[0;32m      4\u001b[0m \u001b[38;5;28mprint\u001b[39m(\u001b[38;5;124m'\u001b[39m\u001b[38;5;130;01m\\n\u001b[39;00m\u001b[38;5;124m'\u001b[39m\u001b[38;5;124mf\u001b[39m\u001b[38;5;124m'\u001b[39m\u001b[38;5;124mclasses_AGTC_data shape: \u001b[39m\u001b[38;5;132;01m{\u001b[39;00mclasses_AGTC_data\u001b[38;5;241m.\u001b[39mshape\u001b[38;5;132;01m}\u001b[39;00m\u001b[38;5;124m'\u001b[39m)\n",
      "\u001b[1;31mNameError\u001b[0m: name 'pd' is not defined"
     ]
    }
   ],
   "source": [
    "classes_AGTC_data = pd.read_csv('F:\\For seperating class Output/classes_AGTC.csv')\n",
    "classes_mixed_data = pd.read_csv('F:\\For seperating class Output/classes_mixed.csv')\n",
    "\n",
    "print('\\n'f'classes_AGTC_data shape: {classes_AGTC_data.shape}')\n",
    "print('\\n'f'classes_mixed_data shape: {classes_mixed_data.shape}')"
   ]
  },
  {
   "cell_type": "code",
   "execution_count": 34,
   "id": "26d5a1f2",
   "metadata": {},
   "outputs": [
    {
     "data": {
      "text/plain": [
       "Text(0, 0.5, 'Count')"
      ]
     },
     "execution_count": 34,
     "metadata": {},
     "output_type": "execute_result"
    },
    {
     "data": {
      "image/png": "[encoded data removed]",
      "text/plain": [
       "<Figure size 1500x500 with 1 Axes>"
      ]
     },
     "metadata": {},
     "output_type": "display_data"
    },
    {
     "data": {
      "image/png": "[encoded data removed]",
      "text/plain": [
       "<Figure size 1500x500 with 1 Axes>"
      ]
     },
     "metadata": {},
     "output_type": "display_data"
    }
   ],
   "source": [
    "#Data Visualization\n",
    "count = classes_AGTC_data['Label'].value_counts()\n",
    "plt.figure(figsize=(15,5))\n",
    "sns.barplot(x=count.index.values, y=count.values, data=classes_AGTC_data)\n",
    " \n",
    "plt.xlabel(\"Label - AGTC\")\n",
    "plt.ylabel(\"Count\")\n",
    "\n",
    "count = classes_mixed_data['Label'].value_counts()\n",
    "plt.figure(figsize=(15,5))\n",
    "sns.barplot(x=count.index.values, y=count.values, data=classes_mixed_data)\n",
    "plt.xlabel(\"Label - Mixed\")\n",
    "plt.ylabel(\"Count\")"
   ]
  },
  {
   "cell_type": "code",
   "execution_count": null,
   "id": "04dce6c6",
   "metadata": {},
   "outputs": [],
   "source": []
  }
 ],
 "metadata": {
  "kernelspec": {
   "display_name": "Python 3 (ipykernel)",
   "language": "python",
   "name": "python3"
  },
  "language_info": {
   "codemirror_mode": {
    "name": "ipython",
    "version": 3
   },
   "file_extension": ".py",
   "mimetype": "text/x-python",
   "name": "python",
   "nbconvert_exporter": "python",
   "pygments_lexer": "ipython3",
   "version": "3.10.9"
  }
 },
 "nbformat": 4,
 "nbformat_minor": 5
}
