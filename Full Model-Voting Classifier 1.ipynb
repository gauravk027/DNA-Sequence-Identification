{
 "cells": [
  {
   "cell_type": "code",
   "execution_count": 1,
   "id": "edf01d06",
   "metadata": {},
   "outputs": [],
   "source": [
    "#General \n",
    "import numpy as np\n",
    "import pandas as pd \n",
    "import matplotlib.pyplot as plt\n",
    "import seaborn as sns\n",
    "from sklearn.model_selection import train_test_split, GridSearchCV, RandomizedSearchCV\n",
    "from sklearn.preprocessing import LabelEncoder\n",
    "import joblib\n",
    "\n",
    "#model\n",
    "import xgboost as xgb\n",
    "from sklearn.metrics import accuracy_score,recall_score,precision_score,f1_score,roc_auc_score,precision_recall_curve, average_precision_score, classification_report, confusion_matrix, make_scorer\n",
    "from sklearn.ensemble import RandomForestClassifier, VotingClassifier"
   ]
  },
  {
   "cell_type": "code",
   "execution_count": 2,
   "id": "522c595d",
   "metadata": {},
   "outputs": [],
   "source": [
    "#Data Reading\n",
    "Full_data = pd.read_csv('F:\\Full and Unique Mixed Output/fullandMixed_merged_file.csv')"
   ]
  },
  {
   "cell_type": "code",
   "execution_count": 1,
   "id": "258bf56d",
   "metadata": {},
   "outputs": [
    {
     "ename": "NameError",
     "evalue": "name 'Full_data' is not defined",
     "output_type": "error",
     "traceback": [
      "\u001b[1;31m---------------------------------------------------------------------------\u001b[0m",
      "\u001b[1;31mNameError\u001b[0m                                 Traceback (most recent call last)",
      "Cell \u001b[1;32mIn[1], line 1\u001b[0m\n\u001b[1;32m----> 1\u001b[0m \u001b[43mFull_data\u001b[49m\u001b[38;5;241m.\u001b[39mshape\n",
      "\u001b[1;31mNameError\u001b[0m: name 'Full_data' is not defined"
     ]
    }
   ],
   "source": [
    "Full_data.shape"
   ]
  },
  {
   "cell_type": "code",
   "execution_count": 2,
   "id": "52719ac3",
   "metadata": {},
   "outputs": [
    {
     "ename": "NameError",
     "evalue": "name 'Full_data' is not defined",
     "output_type": "error",
     "traceback": [
      "\u001b[1;31m---------------------------------------------------------------------------\u001b[0m",
      "\u001b[1;31mNameError\u001b[0m                                 Traceback (most recent call last)",
      "Cell \u001b[1;32mIn[2], line 2\u001b[0m\n\u001b[0;32m      1\u001b[0m \u001b[38;5;66;03m#Missing Values\u001b[39;00m\n\u001b[1;32m----> 2\u001b[0m \u001b[38;5;28mprint\u001b[39m(\u001b[38;5;124m'\u001b[39m\u001b[38;5;124mnumber of missing values in MixedBase data:\u001b[39m\u001b[38;5;124m'\u001b[39m, \u001b[38;5;28msum\u001b[39m(\u001b[43mFull_data\u001b[49m\u001b[38;5;241m.\u001b[39misnull()\u001b[38;5;241m.\u001b[39msum()))\n\u001b[0;32m      4\u001b[0m \u001b[38;5;66;03m#Duplicate values\u001b[39;00m\n\u001b[0;32m      5\u001b[0m \u001b[38;5;28mprint\u001b[39m(\u001b[38;5;124m'\u001b[39m\u001b[38;5;130;01m\\n\u001b[39;00m\u001b[38;5;124m'\u001b[39m\u001b[38;5;124m'\u001b[39m\u001b[38;5;124mnumber of duplicates values in MixedBase data:\u001b[39m\u001b[38;5;124m'\u001b[39m, Full_data\u001b[38;5;241m.\u001b[39mduplicated()\u001b[38;5;241m.\u001b[39msum())\n",
      "\u001b[1;31mNameError\u001b[0m: name 'Full_data' is not defined"
     ]
    }
   ],
   "source": [
    "#Missing Values\n",
    "print('number of missing values in MixedBase data:', sum(Full_data.isnull().sum()))\n",
    "\n",
    "#Duplicate values\n",
    "print('\\n''number of duplicates values in MixedBase data:', Full_data.duplicated().sum())\n"
   ]
  },
  {
   "cell_type": "code",
   "execution_count": 4,
   "id": "b85d81bb",
   "metadata": {},
   "outputs": [],
   "source": [
    "#Dropping duplicates in dataset\n",
    "Full_data = Full_data.drop_duplicates()"
   ]
  },
  {
   "cell_type": "code",
   "execution_count": 3,
   "id": "be1e6920",
   "metadata": {},
   "outputs": [
    {
     "ename": "NameError",
     "evalue": "name 'Full_data' is not defined",
     "output_type": "error",
     "traceback": [
      "\u001b[1;31m---------------------------------------------------------------------------\u001b[0m",
      "\u001b[1;31mNameError\u001b[0m                                 Traceback (most recent call last)",
      "Cell \u001b[1;32mIn[3], line 1\u001b[0m\n\u001b[1;32m----> 1\u001b[0m \u001b[43mFull_data\u001b[49m\u001b[38;5;241m.\u001b[39mshape\n",
      "\u001b[1;31mNameError\u001b[0m: name 'Full_data' is not defined"
     ]
    }
   ],
   "source": [
    "Full_data.shape"
   ]
  },
  {
   "cell_type": "code",
   "execution_count": 6,
   "id": "b09d3d89",
   "metadata": {},
   "outputs": [],
   "source": [
    "# sepearte feature and label\n",
    "X = Full_data.drop('Label', axis='columns')\n",
    "Y = Full_data['Label']"
   ]
  },
  {
   "cell_type": "code",
   "execution_count": 7,
   "id": "c5b60e67",
   "metadata": {},
   "outputs": [],
   "source": [
    "# label Encoding as Xgboost works for label 0 to sequencially\n",
    "encoder = LabelEncoder()\n",
    "Y_encoded = encoder.fit_transform(Y)"
   ]
  },
  {
   "cell_type": "code",
   "execution_count": 4,
   "id": "71cda771",
   "metadata": {},
   "outputs": [
    {
     "ename": "NameError",
     "evalue": "name 'np' is not defined",
     "output_type": "error",
     "traceback": [
      "\u001b[1;31m---------------------------------------------------------------------------\u001b[0m",
      "\u001b[1;31mNameError\u001b[0m                                 Traceback (most recent call last)",
      "Cell \u001b[1;32mIn[4], line 2\u001b[0m\n\u001b[0;32m      1\u001b[0m \u001b[38;5;66;03m#Count of each labels\u001b[39;00m\n\u001b[1;32m----> 2\u001b[0m unique_values, counts \u001b[38;5;241m=\u001b[39m \u001b[43mnp\u001b[49m\u001b[38;5;241m.\u001b[39munique(Y_encoded,return_counts\u001b[38;5;241m=\u001b[39m\u001b[38;5;28;01mTrue\u001b[39;00m)\n\u001b[0;32m      4\u001b[0m \u001b[38;5;28;01mfor\u001b[39;00m value, count \u001b[38;5;129;01min\u001b[39;00m \u001b[38;5;28mzip\u001b[39m(unique_values,counts): \u001b[38;5;28mprint\u001b[39m(\u001b[38;5;124mf\u001b[39m\u001b[38;5;124m\"\u001b[39m\u001b[38;5;124mvalue: \u001b[39m\u001b[38;5;132;01m{\u001b[39;00mvalue\u001b[38;5;132;01m}\u001b[39;00m\u001b[38;5;124m, Count: \u001b[39m\u001b[38;5;132;01m{\u001b[39;00mcount\u001b[38;5;132;01m}\u001b[39;00m\u001b[38;5;124m\"\u001b[39m)\n",
      "\u001b[1;31mNameError\u001b[0m: name 'np' is not defined"
     ]
    }
   ],
   "source": [
    "#Count of each labels\n",
    "unique_values, counts = np.unique(Y_encoded,return_counts=True)\n",
    "\n",
    "for value, count in zip(unique_values,counts): print(f\"value: {value}, Count: {count}\")"
   ]
  },
  {
   "cell_type": "code",
   "execution_count": 9,
   "id": "9b985aa0",
   "metadata": {},
   "outputs": [],
   "source": [
    "# mapping from encoded values to original labels\n",
    "label_mapping = {encoded: original for encoded, original in zip(Y_encoded,Y)}\n",
    "\n",
    "#Location of mapping \n",
    "Full_model_label_mapping_path = 'C:\\\\Users\\\\cr245297\\\\Documents\\\\Python Scripts\\\\full_model_label_mapping.joblib'\n",
    "\n",
    "# Save the label mapping to a joblib file\n",
    "joblib.dump(label_mapping, Full_model_label_mapping_path)\n",
    "\n",
    "# load the saved model from the joblib file\n",
    "label_mapping = joblib.load(Full_model_label_mapping_path)"
   ]
  },
  {
   "cell_type": "code",
   "execution_count": 10,
   "id": "dc07efb4",
   "metadata": {},
   "outputs": [],
   "source": [
    "#splitting the dataset into train and test \n",
    "X_train, X_test, Y_train, Y_test = train_test_split(X,Y_encoded,test_size=0.05, random_state =42, stratify = Y_encoded)"
   ]
  },
  {
   "cell_type": "code",
   "execution_count": 11,
   "id": "b43502d6",
   "metadata": {},
   "outputs": [],
   "source": [
    "#XG Boost model\n",
    "xgb_model = xgb.XGBClassifier(\n",
    "    max_depth = 3,\n",
    "    subsample = 0.8,\n",
    "    n_estimators = 1000,\n",
    "    learning_rate = 0.1,\n",
    "    objective = \"multi:softmax\",\n",
    "    num_class = 6,\n",
    "    n_jobs = -1,\n",
    "    random_state = 42\n",
    "    )"
   ]
  },
  {
   "cell_type": "code",
   "execution_count": 12,
   "id": "3d6ef974",
   "metadata": {},
   "outputs": [],
   "source": [
    "#Random Forest Model\n",
    "RandomForest_model = RandomForestClassifier(\n",
    "    n_estimators=1000,\n",
    "    n_jobs=-1,\n",
    "    random_state=52,\n",
    "    class_weight='balanced'\n",
    ")"
   ]
  },
  {
   "cell_type": "code",
   "execution_count": 13,
   "id": "1938d77e",
   "metadata": {},
   "outputs": [],
   "source": [
    "#votiing classifier with probability based voting \n",
    "voting_classifier = VotingClassifier(estimators=[('xgb', xgb_model),('rf', RandomForest_model)],voting='soft')"
   ]
  },
  {
   "cell_type": "code",
   "execution_count": 14,
   "id": "cf150890",
   "metadata": {
    "scrolled": true
   },
   "outputs": [
    {
     "data": {
      "text/html": [
       "<style>#sk-container-id-1 {color: black;}#sk-container-id-1 pre{padding: 0;}#sk-container-id-1 div.sk-toggleable {background-color: white;}#sk-container-id-1 label.sk-toggleable__label {cursor: pointer;display: block;width: 100%;margin-bottom: 0;padding: 0.3em;box-sizing: border-box;text-align: center;}#sk-container-id-1 label.sk-toggleable__label-arrow:before {content: \"▸\";float: left;margin-right: 0.25em;color: #696969;}#sk-container-id-1 label.sk-toggleable__label-arrow:hover:before {color: black;}#sk-container-id-1 div.sk-estimator:hover label.sk-toggleable__label-arrow:before {color: black;}#sk-container-id-1 div.sk-toggleable__content {max-height: 0;max-width: 0;overflow: hidden;text-align: left;background-color: #f0f8ff;}#sk-container-id-1 div.sk-toggleable__content pre {margin: 0.2em;color: black;border-radius: 0.25em;background-color: #f0f8ff;}#sk-container-id-1 input.sk-toggleable__control:checked~div.sk-toggleable__content {max-height: 200px;max-width: 100%;overflow: auto;}#sk-container-id-1 input.sk-toggleable__control:checked~label.sk-toggleable__label-arrow:before {content: \"▾\";}#sk-container-id-1 div.sk-estimator input.sk-toggleable__control:checked~label.sk-toggleable__label {background-color: #d4ebff;}#sk-container-id-1 div.sk-label input.sk-toggleable__control:checked~label.sk-toggleable__label {background-color: #d4ebff;}#sk-container-id-1 input.sk-hidden--visually {border: 0;clip: rect(1px 1px 1px 1px);clip: rect(1px, 1px, 1px, 1px);height: 1px;margin: -1px;overflow: hidden;padding: 0;position: absolute;width: 1px;}#sk-container-id-1 div.sk-estimator {font-family: monospace;background-color: #f0f8ff;border: 1px dotted black;border-radius: 0.25em;box-sizing: border-box;margin-bottom: 0.5em;}#sk-container-id-1 div.sk-estimator:hover {background-color: #d4ebff;}#sk-container-id-1 div.sk-parallel-item::after {content: \"\";width: 100%;border-bottom: 1px solid gray;flex-grow: 1;}#sk-container-id-1 div.sk-label:hover label.sk-toggleable__label {background-color: #d4ebff;}#sk-container-id-1 div.sk-serial::before {content: \"\";position: absolute;border-left: 1px solid gray;box-sizing: border-box;top: 0;bottom: 0;left: 50%;z-index: 0;}#sk-container-id-1 div.sk-serial {display: flex;flex-direction: column;align-items: center;background-color: white;padding-right: 0.2em;padding-left: 0.2em;position: relative;}#sk-container-id-1 div.sk-item {position: relative;z-index: 1;}#sk-container-id-1 div.sk-parallel {display: flex;align-items: stretch;justify-content: center;background-color: white;position: relative;}#sk-container-id-1 div.sk-item::before, #sk-container-id-1 div.sk-parallel-item::before {content: \"\";position: absolute;border-left: 1px solid gray;box-sizing: border-box;top: 0;bottom: 0;left: 50%;z-index: -1;}#sk-container-id-1 div.sk-parallel-item {display: flex;flex-direction: column;z-index: 1;position: relative;background-color: white;}#sk-container-id-1 div.sk-parallel-item:first-child::after {align-self: flex-end;width: 50%;}#sk-container-id-1 div.sk-parallel-item:last-child::after {align-self: flex-start;width: 50%;}#sk-container-id-1 div.sk-parallel-item:only-child::after {width: 0;}#sk-container-id-1 div.sk-dashed-wrapped {border: 1px dashed gray;margin: 0 0.4em 0.5em 0.4em;box-sizing: border-box;padding-bottom: 0.4em;background-color: white;}#sk-container-id-1 div.sk-label label {font-family: monospace;font-weight: bold;display: inline-block;line-height: 1.2em;}#sk-container-id-1 div.sk-label-container {text-align: center;}#sk-container-id-1 div.sk-container {/* jupyter's `normalize.less` sets `[hidden] { display: none; }` but bootstrap.min.css set `[hidden] { display: none !important; }` so we also need the `!important` here to be able to override the default hidden behavior on the sphinx rendered scikit-learn.org. See: https://github.com/scikit-learn/scikit-learn/issues/21755 */display: inline-block !important;position: relative;}#sk-container-id-1 div.sk-text-repr-fallback {display: none;}</style><div id=\"sk-container-id-1\" class=\"sk-top-container\"><div class=\"sk-text-repr-fallback\"><pre>VotingClassifier(estimators=[(&#x27;xgb&#x27;,\n",
       "                              XGBClassifier(base_score=None, booster=None,\n",
       "                                            callbacks=None,\n",
       "                                            colsample_bylevel=None,\n",
       "                                            colsample_bynode=None,\n",
       "                                            colsample_bytree=None,\n",
       "                                            early_stopping_rounds=None,\n",
       "                                            enable_categorical=False,\n",
       "                                            eval_metric=None,\n",
       "                                            feature_types=None, gamma=None,\n",
       "                                            gpu_id=None, grow_policy=None,\n",
       "                                            importance_type=None,\n",
       "                                            interaction_constraints=None,\n",
       "                                            learning_ra...\n",
       "                                            max_cat_threshold=None,\n",
       "                                            max_cat_to_onehot=None,\n",
       "                                            max_delta_step=None, max_depth=3,\n",
       "                                            max_leaves=None,\n",
       "                                            min_child_weight=None, missing=nan,\n",
       "                                            monotone_constraints=None,\n",
       "                                            n_estimators=1000, n_jobs=-1,\n",
       "                                            num_class=6, num_parallel_tree=None,\n",
       "                                            objective=&#x27;multi:softmax&#x27;, ...)),\n",
       "                             (&#x27;rf&#x27;,\n",
       "                              RandomForestClassifier(class_weight=&#x27;balanced&#x27;,\n",
       "                                                     n_estimators=1000,\n",
       "                                                     n_jobs=-1,\n",
       "                                                     random_state=52))],\n",
       "                 voting=&#x27;soft&#x27;)</pre><b>In a Jupyter environment, please rerun this cell to show the HTML representation or trust the notebook. <br />On GitHub, the HTML representation is unable to render, please try loading this page with nbviewer.org.</b></div><div class=\"sk-container\" hidden><div class=\"sk-item sk-dashed-wrapped\"><div class=\"sk-label-container\"><div class=\"sk-label sk-toggleable\"><input class=\"sk-toggleable__control sk-hidden--visually\" id=\"sk-estimator-id-1\" type=\"checkbox\" ><label for=\"sk-estimator-id-1\" class=\"sk-toggleable__label sk-toggleable__label-arrow\">VotingClassifier</label><div class=\"sk-toggleable__content\"><pre>VotingClassifier(estimators=[(&#x27;xgb&#x27;,\n",
       "                              XGBClassifier(base_score=None, booster=None,\n",
       "                                            callbacks=None,\n",
       "                                            colsample_bylevel=None,\n",
       "                                            colsample_bynode=None,\n",
       "                                            colsample_bytree=None,\n",
       "                                            early_stopping_rounds=None,\n",
       "                                            enable_categorical=False,\n",
       "                                            eval_metric=None,\n",
       "                                            feature_types=None, gamma=None,\n",
       "                                            gpu_id=None, grow_policy=None,\n",
       "                                            importance_type=None,\n",
       "                                            interaction_constraints=None,\n",
       "                                            learning_ra...\n",
       "                                            max_cat_threshold=None,\n",
       "                                            max_cat_to_onehot=None,\n",
       "                                            max_delta_step=None, max_depth=3,\n",
       "                                            max_leaves=None,\n",
       "                                            min_child_weight=None, missing=nan,\n",
       "                                            monotone_constraints=None,\n",
       "                                            n_estimators=1000, n_jobs=-1,\n",
       "                                            num_class=6, num_parallel_tree=None,\n",
       "                                            objective=&#x27;multi:softmax&#x27;, ...)),\n",
       "                             (&#x27;rf&#x27;,\n",
       "                              RandomForestClassifier(class_weight=&#x27;balanced&#x27;,\n",
       "                                                     n_estimators=1000,\n",
       "                                                     n_jobs=-1,\n",
       "                                                     random_state=52))],\n",
       "                 voting=&#x27;soft&#x27;)</pre></div></div></div><div class=\"sk-parallel\"><div class=\"sk-parallel-item\"><div class=\"sk-item\"><div class=\"sk-label-container\"><div class=\"sk-label sk-toggleable\"><label>xgb</label></div></div><div class=\"sk-serial\"><div class=\"sk-item\"><div class=\"sk-estimator sk-toggleable\"><input class=\"sk-toggleable__control sk-hidden--visually\" id=\"sk-estimator-id-2\" type=\"checkbox\" ><label for=\"sk-estimator-id-2\" class=\"sk-toggleable__label sk-toggleable__label-arrow\">XGBClassifier</label><div class=\"sk-toggleable__content\"><pre>XGBClassifier(base_score=None, booster=None, callbacks=None,\n",
       "              colsample_bylevel=None, colsample_bynode=None,\n",
       "              colsample_bytree=None, early_stopping_rounds=None,\n",
       "              enable_categorical=False, eval_metric=None, feature_types=None,\n",
       "              gamma=None, gpu_id=None, grow_policy=None, importance_type=None,\n",
       "              interaction_constraints=None, learning_rate=0.1, max_bin=None,\n",
       "              max_cat_threshold=None, max_cat_to_onehot=None,\n",
       "              max_delta_step=None, max_depth=3, max_leaves=None,\n",
       "              min_child_weight=None, missing=nan, monotone_constraints=None,\n",
       "              n_estimators=1000, n_jobs=-1, num_class=6, num_parallel_tree=None,\n",
       "              objective=&#x27;multi:softmax&#x27;, ...)</pre></div></div></div></div></div></div><div class=\"sk-parallel-item\"><div class=\"sk-item\"><div class=\"sk-label-container\"><div class=\"sk-label sk-toggleable\"><label>rf</label></div></div><div class=\"sk-serial\"><div class=\"sk-item\"><div class=\"sk-estimator sk-toggleable\"><input class=\"sk-toggleable__control sk-hidden--visually\" id=\"sk-estimator-id-3\" type=\"checkbox\" ><label for=\"sk-estimator-id-3\" class=\"sk-toggleable__label sk-toggleable__label-arrow\">RandomForestClassifier</label><div class=\"sk-toggleable__content\"><pre>RandomForestClassifier(class_weight=&#x27;balanced&#x27;, n_estimators=1000, n_jobs=-1,\n",
       "                       random_state=52)</pre></div></div></div></div></div></div></div></div></div></div>"
      ],
      "text/plain": [
       "VotingClassifier(estimators=[('xgb',\n",
       "                              XGBClassifier(base_score=None, booster=None,\n",
       "                                            callbacks=None,\n",
       "                                            colsample_bylevel=None,\n",
       "                                            colsample_bynode=None,\n",
       "                                            colsample_bytree=None,\n",
       "                                            early_stopping_rounds=None,\n",
       "                                            enable_categorical=False,\n",
       "                                            eval_metric=None,\n",
       "                                            feature_types=None, gamma=None,\n",
       "                                            gpu_id=None, grow_policy=None,\n",
       "                                            importance_type=None,\n",
       "                                            interaction_constraints=None,\n",
       "                                            learning_ra...\n",
       "                                            max_cat_threshold=None,\n",
       "                                            max_cat_to_onehot=None,\n",
       "                                            max_delta_step=None, max_depth=3,\n",
       "                                            max_leaves=None,\n",
       "                                            min_child_weight=None, missing=nan,\n",
       "                                            monotone_constraints=None,\n",
       "                                            n_estimators=1000, n_jobs=-1,\n",
       "                                            num_class=6, num_parallel_tree=None,\n",
       "                                            objective='multi:softmax', ...)),\n",
       "                             ('rf',\n",
       "                              RandomForestClassifier(class_weight='balanced',\n",
       "                                                     n_estimators=1000,\n",
       "                                                     n_jobs=-1,\n",
       "                                                     random_state=52))],\n",
       "                 voting='soft')"
      ]
     },
     "execution_count": 14,
     "metadata": {},
     "output_type": "execute_result"
    }
   ],
   "source": [
    "#train the voting_classifier on the training data\n",
    "voting_classifier.fit(X_train,Y_train)"
   ]
  },
  {
   "cell_type": "code",
   "execution_count": null,
   "id": "0210bfc3",
   "metadata": {},
   "outputs": [],
   "source": [
    "# saving the model \n",
    "\n",
    "# file path for saving the model\n",
    "Full_model_path = 'C:\\\\Users\\\\cr245297\\\\Documents\\\\Python Scripts\\\\Full_model_xgbRF.joblib'\n",
    "\n",
    "# save the modelto the path \n",
    "joblib.dump(voting_classifier, Full_model_path)\n",
    "\n",
    "# load the saved model from the joblib file\n",
    "Full_model_loaded = joblib.load(Full_model_path)"
   ]
  },
  {
   "cell_type": "code",
   "execution_count": 19,
   "id": "ffc90521",
   "metadata": {},
   "outputs": [],
   "source": [
    "# prediction\n",
    "Y_pred = Full_model_loaded.predict(X_test)"
   ]
  },
  {
   "cell_type": "code",
   "execution_count": 20,
   "id": "18a9fb1b",
   "metadata": {},
   "outputs": [
    {
     "name": "stdout",
     "output_type": "stream",
     "text": [
      "              precision    recall  f1-score   support\n",
      "\n",
      "           0       1.00      1.00      1.00    323518\n",
      "           1       1.00      1.00      1.00    295255\n",
      "           2       1.00      1.00      1.00    415215\n",
      "           3       1.00      1.00      1.00    249522\n",
      "\n",
      "    accuracy                           1.00   1283510\n",
      "   macro avg       1.00      1.00      1.00   1283510\n",
      "weighted avg       1.00      1.00      1.00   1283510\n",
      "\n"
     ]
    }
   ],
   "source": [
    "# Evaluate the model's performance\n",
    "print(classification_report(Y_test, Y_pred))"
   ]
  },
  {
   "cell_type": "code",
   "execution_count": 21,
   "id": "2ff37aae",
   "metadata": {},
   "outputs": [
    {
     "data": {
      "image/png": "[encoded data removed]",
      "text/plain": [
       "<Figure size 400x400 with 1 Axes>"
      ]
     },
     "metadata": {},
     "output_type": "display_data"
    }
   ],
   "source": [
    "#compute the confusion metrix\n",
    "cm = confusion_matrix(Y_test,Y_pred)\n",
    "\n",
    "#display using heatmap\n",
    "plt.figure(figsize=(4,4))\n",
    "sns.heatmap(cm, annot=True, fmt=\"d\", cmap=\"Blues\", cbar=False)\n",
    "plt.xlabel(\"Predicted Labels\")\n",
    "plt.ylabel(\"True Labels\")\n",
    "plt.title(\"Confusion Matrix\")\n",
    "plt.show()"
   ]
  },
  {
   "cell_type": "code",
   "execution_count": 22,
   "id": "a402b21a",
   "metadata": {},
   "outputs": [
    {
     "name": "stdout",
     "output_type": "stream",
     "text": [
      "Class 0:\n",
      "Accuracy: 0.9995796215357414\n",
      "Precision: 0.9996136095973194\n",
      "Recall: 0.9995796215357414\n",
      "F1-Score: 0.9995966152776168\n",
      "\n",
      "Class 1:\n",
      "Accuracy: 0.999647762103944\n",
      "Precision: 0.9996105206830451\n",
      "Recall: 0.999647762103944\n",
      "F1-Score: 0.9996291410466351\n",
      "\n",
      "Class 2:\n",
      "Accuracy: 0.9997519357441326\n",
      "Precision: 0.9996411895169544\n",
      "Recall: 0.9997519357441326\n",
      "F1-Score: 0.9996965595634312\n",
      "\n",
      "Class 3:\n",
      "Accuracy: 0.999294651373426\n",
      "Precision: 0.9994789077907293\n",
      "Recall: 0.999294651373426\n",
      "F1-Score: 0.9993867710892629\n",
      "\n"
     ]
    }
   ],
   "source": [
    "# Calculate class-wise precision, recall, and F1-score\n",
    "precision = precision_score(Y_test, Y_pred, average=None)\n",
    "recall = recall_score(Y_test, Y_pred, average=None)\n",
    "f1 = f1_score(Y_test, Y_pred, average=None)\n",
    "\n",
    "\n",
    "# Calculate class-wise accuracy\n",
    "\n",
    "class_accuracy = []\n",
    "for class_label in range(len(precision)):\n",
    "    class_samples = (Y_test == class_label).sum()\n",
    "    class_correct = np.logical_and(Y_test == Y_pred, Y_test == class_label).sum()\n",
    "    class_accuracy.append(class_correct / class_samples)\n",
    "\n",
    "# Print the class-wise metrics\n",
    "for class_label in range(len(precision)):\n",
    "   print(f\"Class {class_label}:\")\n",
    "   print(f\"Accuracy: {class_accuracy[class_label]}\")\n",
    "   print(f\"Precision: {precision[class_label]}\")\n",
    "   print(f\"Recall: {recall[class_label]}\")\n",
    "   print(f\"F1-Score: {f1[class_label]}\")\n",
    "   print()"
   ]
  },
  {
   "cell_type": "code",
   "execution_count": 23,
   "id": "e9a8b875",
   "metadata": {},
   "outputs": [],
   "source": [
    "# function to decode the encoded values\n",
    "\n",
    "def decode_labels(encoded_values, label_mapping):\n",
    "\n",
    "    decoded_values = [label_mapping[encoded] for encoded in encoded_values]\n",
    "\n",
    "    return decoded_values\n",
    "\n",
    "\n",
    "# Using the decoding function to get the decoded predictions\n",
    "\n",
    "Y_pred_decoded = decode_labels(Y_pred, label_mapping)\n",
    "\n"
   ]
  },
  {
   "cell_type": "code",
   "execution_count": 5,
   "id": "32339910",
   "metadata": {},
   "outputs": [
    {
     "ename": "NameError",
     "evalue": "name 'np' is not defined",
     "output_type": "error",
     "traceback": [
      "\u001b[1;31m---------------------------------------------------------------------------\u001b[0m",
      "\u001b[1;31mNameError\u001b[0m                                 Traceback (most recent call last)",
      "Cell \u001b[1;32mIn[5], line 1\u001b[0m\n\u001b[1;32m----> 1\u001b[0m unique_values, counts \u001b[38;5;241m=\u001b[39m \u001b[43mnp\u001b[49m\u001b[38;5;241m.\u001b[39munique(Y_pred_decoded,return_counts\u001b[38;5;241m=\u001b[39m\u001b[38;5;28;01mTrue\u001b[39;00m)\n\u001b[0;32m      3\u001b[0m \u001b[38;5;28;01mfor\u001b[39;00m value, count \u001b[38;5;129;01min\u001b[39;00m \u001b[38;5;28mzip\u001b[39m(unique_values,counts): \u001b[38;5;28mprint\u001b[39m(\u001b[38;5;124mf\u001b[39m\u001b[38;5;124m\"\u001b[39m\u001b[38;5;124mvalue: \u001b[39m\u001b[38;5;132;01m{\u001b[39;00mvalue\u001b[38;5;132;01m}\u001b[39;00m\u001b[38;5;124m, Count: \u001b[39m\u001b[38;5;132;01m{\u001b[39;00mcount\u001b[38;5;132;01m}\u001b[39;00m\u001b[38;5;124m\"\u001b[39m)\n",
      "\u001b[1;31mNameError\u001b[0m: name 'np' is not defined"
     ]
    }
   ],
   "source": [
    "unique_values, counts = np.unique(Y_pred_decoded,return_counts=True)\n",
    "\n",
    "for value, count in zip(unique_values,counts): print(f\"value: {value}, Count: {count}\")"
   ]
  },
  {
   "cell_type": "code",
   "execution_count": 6,
   "id": "11ec73bb",
   "metadata": {},
   "outputs": [
    {
     "ename": "NameError",
     "evalue": "name 'np' is not defined",
     "output_type": "error",
     "traceback": [
      "\u001b[1;31m---------------------------------------------------------------------------\u001b[0m",
      "\u001b[1;31mNameError\u001b[0m                                 Traceback (most recent call last)",
      "Cell \u001b[1;32mIn[6], line 1\u001b[0m\n\u001b[1;32m----> 1\u001b[0m unique_values, counts \u001b[38;5;241m=\u001b[39m \u001b[43mnp\u001b[49m\u001b[38;5;241m.\u001b[39munique(Y_pred,return_counts\u001b[38;5;241m=\u001b[39m\u001b[38;5;28;01mTrue\u001b[39;00m)\n\u001b[0;32m      3\u001b[0m \u001b[38;5;28;01mfor\u001b[39;00m value, count \u001b[38;5;129;01min\u001b[39;00m \u001b[38;5;28mzip\u001b[39m(unique_values,counts): \u001b[38;5;28mprint\u001b[39m(\u001b[38;5;124mf\u001b[39m\u001b[38;5;124m\"\u001b[39m\u001b[38;5;124mvalue: \u001b[39m\u001b[38;5;132;01m{\u001b[39;00mvalue\u001b[38;5;132;01m}\u001b[39;00m\u001b[38;5;124m, Count: \u001b[39m\u001b[38;5;132;01m{\u001b[39;00mcount\u001b[38;5;132;01m}\u001b[39;00m\u001b[38;5;124m\"\u001b[39m)\n",
      "\u001b[1;31mNameError\u001b[0m: name 'np' is not defined"
     ]
    }
   ],
   "source": [
    "unique_values, counts = np.unique(Y_pred,return_counts=True)\n",
    "\n",
    "for value, count in zip(unique_values,counts): print(f\"value: {value}, Count: {count}\")"
   ]
  },
  {
   "cell_type": "code",
   "execution_count": 7,
   "id": "ec072573",
   "metadata": {},
   "outputs": [
    {
     "ename": "NameError",
     "evalue": "name 'np' is not defined",
     "output_type": "error",
     "traceback": [
      "\u001b[1;31m---------------------------------------------------------------------------\u001b[0m",
      "\u001b[1;31mNameError\u001b[0m                                 Traceback (most recent call last)",
      "Cell \u001b[1;32mIn[7], line 1\u001b[0m\n\u001b[1;32m----> 1\u001b[0m unique_values, counts \u001b[38;5;241m=\u001b[39m \u001b[43mnp\u001b[49m\u001b[38;5;241m.\u001b[39munique(Y_test,return_counts\u001b[38;5;241m=\u001b[39m\u001b[38;5;28;01mTrue\u001b[39;00m)\n\u001b[0;32m      3\u001b[0m \u001b[38;5;28;01mfor\u001b[39;00m value, count \u001b[38;5;129;01min\u001b[39;00m \u001b[38;5;28mzip\u001b[39m(unique_values,counts): \u001b[38;5;28mprint\u001b[39m(\u001b[38;5;124mf\u001b[39m\u001b[38;5;124m\"\u001b[39m\u001b[38;5;124mvalue: \u001b[39m\u001b[38;5;132;01m{\u001b[39;00mvalue\u001b[38;5;132;01m}\u001b[39;00m\u001b[38;5;124m, Count: \u001b[39m\u001b[38;5;132;01m{\u001b[39;00mcount\u001b[38;5;132;01m}\u001b[39;00m\u001b[38;5;124m\"\u001b[39m)\n",
      "\u001b[1;31mNameError\u001b[0m: name 'np' is not defined"
     ]
    }
   ],
   "source": [
    "unique_values, counts = np.unique(Y_test,return_counts=True)\n",
    "\n",
    "for value, count in zip(unique_values,counts): print(f\"value: {value}, Count: {count}\")"
   ]
  },
  {
   "cell_type": "code",
   "execution_count": null,
   "id": "8928e3e1",
   "metadata": {},
   "outputs": [],
   "source": []
  }
 ],
 "metadata": {
  "kernelspec": {
   "display_name": "Python 3 (ipykernel)",
   "language": "python",
   "name": "python3"
  },
  "language_info": {
   "codemirror_mode": {
    "name": "ipython",
    "version": 3
   },
   "file_extension": ".py",
   "mimetype": "text/x-python",
   "name": "python",
   "nbconvert_exporter": "python",
   "pygments_lexer": "ipython3",
   "version": "3.10.9"
  }
 },
 "nbformat": 4,
 "nbformat_minor": 5
}
