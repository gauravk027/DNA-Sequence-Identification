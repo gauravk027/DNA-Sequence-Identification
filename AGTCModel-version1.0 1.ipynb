{
 "cells": [
  {
   "cell_type": "code",
   "execution_count": 3,
   "id": "cfab17ce",
   "metadata": {},
   "outputs": [],
   "source": [
    "#General \n",
    "import numpy as np\n",
    "import pandas as pd \n",
    "import joblib\n",
    "import sklearn\n",
    "import xgboost as xgb\n",
    "from sklearn.metrics import accuracy_score,recall_score,precision_score,f1_score,roc_auc_score,precision_recall_curve, average_precision_score, classification_report, confusion_matrix, make_scorer"
   ]
  },
  {
   "cell_type": "code",
   "execution_count": 4,
   "id": "82a41673",
   "metadata": {},
   "outputs": [
    {
     "name": "stdout",
     "output_type": "stream",
     "text": [
      "1.3.0\n",
      "1.7.3\n"
     ]
    }
   ],
   "source": [
    "print(sklearn.__version__)\n",
    "print(xgb.__version__)"
   ]
  },
  {
   "cell_type": "code",
   "execution_count": 13,
   "id": "decba8ba",
   "metadata": {},
   "outputs": [],
   "source": [
    "#Data Reading\n",
    "classes_AGTC_data = pd.read_csv('F:\\For seperating class Output/classes_AGTC.csv') #file is having 49 feature\n",
    "Y_test = classes_AGTC_data['label'] \n",
    "classes_AGTC_data = classes_AGTC_data.drop('label', axis='columns')"
   ]
  },
  {
   "cell_type": "code",
   "execution_count": 14,
   "id": "07622104",
   "metadata": {},
   "outputs": [],
   "source": [
    "# file path for saved model\n",
    "AGTC_model_path = 'F:\\\\Final Models\\\\AGTC_model_xgbRF.joblib'\n",
    "\n",
    "# load the saved model from the joblib file\n",
    "AGTC_model_loaded = joblib.load(AGTC_model_path)"
   ]
  },
  {
   "cell_type": "code",
   "execution_count": 15,
   "id": "df01a538",
   "metadata": {},
   "outputs": [],
   "source": [
    "# load the mapped file from path\n",
    "\n",
    "#Location of mapping \n",
    "AGTC_model_label_mapping_path = 'F:\\\\Final Models\\\\AGTC_model_label_mapping.joblib'\n",
    "\n",
    "# load the saved model from the joblib file\n",
    "label_mapping = joblib.load(AGTC_model_label_mapping_path)"
   ]
  },
  {
   "cell_type": "code",
   "execution_count": 16,
   "id": "7d1cb0b4",
   "metadata": {},
   "outputs": [],
   "source": [
    "# prediction\n",
    "Y_encoded_pred = AGTC_model_loaded.predict(classes_AGTC_data)"
   ]
  },
  {
   "cell_type": "code",
   "execution_count": 17,
   "id": "2dc6aa3e",
   "metadata": {},
   "outputs": [],
   "source": [
    "# function to decode the encoded values\n",
    "\n",
    "def decode_labels(encoded_values, label_mapping):\n",
    "\n",
    "    decoded_values = [label_mapping[encoded] for encoded in encoded_values]\n",
    "\n",
    "    return decoded_values\n",
    "\n",
    "\n",
    "# Using the decoding function to get the decoded predictions\n",
    "\n",
    "Y_pred_AGTC = decode_labels(Y_encoded_pred, label_mapping)\n"
   ]
  },
  {
   "cell_type": "code",
   "execution_count": 19,
   "id": "5bceb707",
   "metadata": {},
   "outputs": [
    {
     "name": "stdout",
     "output_type": "stream",
     "text": [
      "              precision    recall  f1-score   support\n",
      "\n",
      "           1       1.00      1.00      1.00    600058\n",
      "           2       1.00      1.00      1.00    552269\n",
      "           4       1.00      1.00      1.00    775130\n",
      "           8       1.00      1.00      1.00    463297\n",
      "\n",
      "    accuracy                           1.00   2390754\n",
      "   macro avg       1.00      1.00      1.00   2390754\n",
      "weighted avg       1.00      1.00      1.00   2390754\n",
      "\n"
     ]
    }
   ],
   "source": [
    "# Evaluate the model's performance\n",
    "print(classification_report(Y_test, Y_pred_AGTC))"
   ]
  },
  {
   "cell_type": "code",
   "execution_count": 20,
   "id": "fa1f9398",
   "metadata": {},
   "outputs": [],
   "source": [
    "#code for fetching the indices value where Y_test not equal Y_pred_AGTC\n",
    "unequal_indices = np.where(Y_test != Y_pred_AGTC)[0]"
   ]
  },
  {
   "cell_type": "code",
   "execution_count": 26,
   "id": "cf7f0466",
   "metadata": {},
   "outputs": [
    {
     "name": "stdout",
     "output_type": "stream",
     "text": [
      "[    3   454   556  7993  8440  9788 10693 17355 17358 17371]\n"
     ]
    }
   ],
   "source": [
    "print(unequal_indices[:10])"
   ]
  },
  {
   "cell_type": "code",
   "execution_count": 27,
   "id": "3c821d6f",
   "metadata": {},
   "outputs": [
    {
     "name": "stdout",
     "output_type": "stream",
     "text": [
      "[4, 8, 2, 8, 2, 1, 2, 4, 8, 8]\n"
     ]
    }
   ],
   "source": [
    "print(Y_pred_AGTC[:10])"
   ]
  },
  {
   "cell_type": "code",
   "execution_count": 28,
   "id": "41626d5d",
   "metadata": {},
   "outputs": [
    {
     "name": "stdout",
     "output_type": "stream",
     "text": [
      "0    4\n",
      "1    8\n",
      "2    2\n",
      "3    1\n",
      "4    2\n",
      "5    1\n",
      "6    2\n",
      "7    4\n",
      "8    8\n",
      "9    8\n",
      "Name: label, dtype: int64\n"
     ]
    }
   ],
   "source": [
    "print(Y_test[:10])"
   ]
  },
  {
   "cell_type": "code",
   "execution_count": null,
   "id": "0179cab6",
   "metadata": {},
   "outputs": [],
   "source": []
  }
 ],
 "metadata": {
  "kernelspec": {
   "display_name": "Python 3 (ipykernel)",
   "language": "python",
   "name": "python3"
  },
  "language_info": {
   "codemirror_mode": {
    "name": "ipython",
    "version": 3
   },
   "file_extension": ".py",
   "mimetype": "text/x-python",
   "name": "python",
   "nbconvert_exporter": "python",
   "pygments_lexer": "ipython3",
   "version": "3.10.9"
  }
 },
 "nbformat": 4,
 "nbformat_minor": 5
}
